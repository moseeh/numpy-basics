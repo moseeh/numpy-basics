{
 "cells": [
  {
   "cell_type": "code",
   "execution_count": 1,
   "id": "d7caa2e9-38a1-4aca-a091-8a158181a94e",
   "metadata": {},
   "outputs": [],
   "source": [
    "import numpy as np\n"
   ]
  },
  {
   "cell_type": "code",
   "execution_count": 2,
   "id": "e779b17b-460e-4708-b7d2-64193000b384",
   "metadata": {},
   "outputs": [],
   "source": [
    "wine_data = np.genfromtxt('winequality-red.csv', delimiter=';', skip_header=1, dtype=np.float32)"
   ]
  },
  {
   "cell_type": "code",
   "execution_count": 3,
   "id": "d581de81-0690-47e3-99d3-17402f1d966d",
   "metadata": {},
   "outputs": [
    {
     "name": "stdout",
     "output_type": "stream",
     "text": [
      "[[ 7.4    0.7    0.    ...  0.56   9.4    5.   ]\n",
      " [ 7.8    0.88   0.    ...  0.68   9.8    5.   ]\n",
      " [ 7.8    0.76   0.04  ...  0.65   9.8    5.   ]\n",
      " ...\n",
      " [ 6.3    0.51   0.13  ...  0.75  11.     6.   ]\n",
      " [ 5.9    0.645  0.12  ...  0.71  10.2    5.   ]\n",
      " [ 6.     0.31   0.47  ...  0.66  11.     6.   ]]\n"
     ]
    }
   ],
   "source": [
    "print(wine_data)"
   ]
  },
  {
   "cell_type": "code",
   "execution_count": 4,
   "id": "026c6053-5b80-4995-90b2-2c0b6b5a955c",
   "metadata": {},
   "outputs": [
    {
     "name": "stdout",
     "output_type": "stream",
     "text": [
      "(1599, 12)\n"
     ]
    }
   ],
   "source": [
    "print(wine_data.shape)\n"
   ]
  },
  {
   "cell_type": "code",
   "execution_count": 5,
   "id": "48c7b38a-2994-4012-b8de-2473c4148308",
   "metadata": {},
   "outputs": [
    {
     "name": "stdout",
     "output_type": "stream",
     "text": [
      "19188\n"
     ]
    }
   ],
   "source": [
    "print(wine_data.size)"
   ]
  },
  {
   "cell_type": "code",
   "execution_count": 6,
   "id": "d93e18c2-26af-4760-885c-983eae7350d0",
   "metadata": {},
   "outputs": [
    {
     "name": "stdout",
     "output_type": "stream",
     "text": [
      "76752\n"
     ]
    }
   ],
   "source": [
    "print(wine_data.nbytes\n",
    "     )"
   ]
  },
  {
   "cell_type": "code",
   "execution_count": 7,
   "id": "e8fb8c55-1f51-419e-a7a1-60f02d59bb4d",
   "metadata": {},
   "outputs": [
    {
     "name": "stdout",
     "output_type": "stream",
     "text": [
      "[[7.800e+00 8.800e-01 0.000e+00 2.600e+00 9.800e-02 2.500e+01 6.700e+01\n",
      "  9.968e-01 3.200e+00 6.800e-01 9.800e+00 5.000e+00]\n",
      " [7.900e+00 6.000e-01 6.000e-02 1.600e+00 6.900e-02 1.500e+01 5.900e+01\n",
      "  9.964e-01 3.300e+00 4.600e-01 9.400e+00 5.000e+00]\n",
      " [7.500e+00 5.000e-01 3.600e-01 6.100e+00 7.100e-02 1.700e+01 1.020e+02\n",
      "  9.978e-01 3.350e+00 8.000e-01 1.050e+01 5.000e+00]]\n"
     ]
    }
   ],
   "source": [
    "rows = wine_data[[1,6,11], : ]\n",
    "print(rows)"
   ]
  },
  {
   "cell_type": "code",
   "execution_count": 8,
   "id": "e051bd42-1bd0-4cc4-8f4a-790cb4ef6e5d",
   "metadata": {},
   "outputs": [
    {
     "name": "stdout",
     "output_type": "stream",
     "text": [
      "[[7.800e+00 8.800e-01 0.000e+00 2.600e+00 9.800e-02 2.500e+01 6.700e+01\n",
      "  9.968e-01 3.200e+00 6.800e-01 9.800e+00 5.000e+00]\n",
      " [7.900e+00 6.000e-01 6.000e-02 1.600e+00 6.900e-02 1.500e+01 5.900e+01\n",
      "  9.964e-01 3.300e+00 4.600e-01 9.400e+00 5.000e+00]\n",
      " [7.500e+00 5.000e-01 3.600e-01 6.100e+00 7.100e-02 1.700e+01 1.020e+02\n",
      "  9.978e-01 3.350e+00 8.000e-01 1.050e+01 5.000e+00]]\n"
     ]
    }
   ],
   "source": [
    "clean_rows= rows[~np.isnan(rows).any(axis=1)]\n",
    "print(clean_rows)"
   ]
  },
  {
   "cell_type": "code",
   "execution_count": 9,
   "id": "5dee5125-ac43-4555-ac6f-37ad3412fa1e",
   "metadata": {},
   "outputs": [
    {
     "name": "stdout",
     "output_type": "stream",
     "text": [
      "False\n"
     ]
    }
   ],
   "source": [
    "alcohol_20 = np.any(wine_data[:, 10]>20)\n",
    "print(alcohol_20)"
   ]
  },
  {
   "cell_type": "code",
   "execution_count": 10,
   "id": "7c75f7a0-7920-4d68-9c2b-b9e366c21087",
   "metadata": {},
   "outputs": [
    {
     "name": "stdout",
     "output_type": "stream",
     "text": [
      "10.422984\n"
     ]
    }
   ],
   "source": [
    "average_alcohol = np.nanmean(wine_data[:, 10])\n",
    "print(average_alcohol)"
   ]
  },
  {
   "cell_type": "code",
   "execution_count": 11,
   "id": "60045ff0-50a0-4dbf-87fd-05b1a3fb5616",
   "metadata": {},
   "outputs": [
    {
     "name": "stdout",
     "output_type": "stream",
     "text": [
      "pH Statistics: {'min': np.float32(2.74), 'max': np.float32(4.01), '25%': np.float32(3.21), '50%': np.float32(3.31), '75%': np.float32(3.4), 'mean': np.float32(3.31)}\n"
     ]
    }
   ],
   "source": [
    "\n",
    "\n",
    "pH_col = wine_data[:, 8]\n",
    "stats = {\n",
    "    'min': round(np.nanmin(pH_col), 2),\n",
    "    'max': round(np.nanmax(pH_col), 2),\n",
    "    '25%': round(np.nanpercentile(pH_col, 25), 2),\n",
    "    '50%': round(np.nanpercentile(pH_col, 50), 2),  # median\n",
    "    '75%': round(np.nanpercentile(pH_col, 75), 2),\n",
    "    'mean': round(np.nanmean(pH_col), 2)\n",
    "}\n",
    "print(\"pH Statistics:\", stats)\n",
    "\n"
   ]
  },
  {
   "cell_type": "code",
   "execution_count": 12,
   "id": "9e66a72d-d610-485c-b576-395ab30b6ad0",
   "metadata": {},
   "outputs": [
    {
     "name": "stdout",
     "output_type": "stream",
     "text": [
      "Low sulphate avg quality: 5.2\n"
     ]
    }
   ],
   "source": [
    "sulphates = wine_data[:, 9]  #10th column\n",
    "quality = wine_data[:, 11]  #11th column\n",
    "\n",
    "p20 = np.nanpercentile(sulphates, 20)\n",
    "mask = sulphates < p20\n",
    "low_sulphur_quality_mean = np.nanmean(quality[mask])\n",
    "\n",
    "print(f\"Low sulphate avg quality: {low_sulphur_quality_mean:.1f}\")"
   ]
  },
  {
   "cell_type": "code",
   "execution_count": 13,
   "id": "a9a717c8-cef3-4857-b4a6-7d92c787be2c",
   "metadata": {},
   "outputs": [
    {
     "name": "stdout",
     "output_type": "stream",
     "text": [
      "Mean for best quality wines:\n",
      " [ 8.566666    0.4233333   0.39111114  2.5777776   0.06844445 13.277778\n",
      " 33.444443    0.99521226  3.2672222   0.76777774 12.094444    8.        ]\n",
      "Mean for worst quality wines:\n",
      " [ 8.359999    0.8845      0.17099999  2.6350002   0.12249999 11.\n",
      " 24.9         0.997464    3.398       0.57000005  9.955       3.        ]\n"
     ]
    }
   ],
   "source": [
    "\n",
    "\n",
    "quality = wine_data[:, 11]\n",
    "best_quality = np.nanmax(quality)\n",
    "worst_quality = np.nanmin(quality)\n",
    "\n",
    "best_mask = quality == best_quality\n",
    "worst_mask = quality == worst_quality\n",
    "\n",
    "mean_best = np.nanmean(wine_data[best_mask], axis=0)\n",
    "mean_worst = np.nanmean(wine_data[worst_mask], axis=0)\n",
    "\n",
    "print(\"Mean for best quality wines:\\n\", mean_best)\n",
    "print(\"Mean for worst quality wines:\\n\", mean_worst)\n",
    "\n"
   ]
  },
  {
   "cell_type": "code",
   "execution_count": null,
   "id": "35aa8571-9dfc-4c0a-9da9-787355963dcd",
   "metadata": {},
   "outputs": [],
   "source": []
  }
 ],
 "metadata": {
  "kernelspec": {
   "display_name": "Python 3 (ipykernel)",
   "language": "python",
   "name": "python3"
  },
  "language_info": {
   "codemirror_mode": {
    "name": "ipython",
    "version": 3
   },
   "file_extension": ".py",
   "mimetype": "text/x-python",
   "name": "python",
   "nbconvert_exporter": "python",
   "pygments_lexer": "ipython3",
   "version": "3.12.3"
  }
 },
 "nbformat": 4,
 "nbformat_minor": 5
}
