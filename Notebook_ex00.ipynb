{
 "cells": [
  {
   "cell_type": "markdown",
   "id": "d80635b0-c110-4169-808e-299486a9e7fb",
   "metadata": {},
   "source": [
    "# H1 TITLE \n",
    "## H2 TITLE "
   ]
  },
  {
   "cell_type": "code",
   "execution_count": 6,
   "id": "a808b1b6-53b9-4087-853f-f3d15e0cc1a1",
   "metadata": {},
   "outputs": [
    {
     "name": "stdout",
     "output_type": "stream",
     "text": [
      "Buy the dip ?\n"
     ]
    }
   ],
   "source": [
    "print(\"Buy the dip ?\")\n"
   ]
  },
  {
   "cell_type": "code",
   "execution_count": null,
   "id": "c280314c-f5c5-4472-a644-941b3b5be711",
   "metadata": {},
   "outputs": [],
   "source": []
  }
 ],
 "metadata": {
  "kernelspec": {
   "display_name": "Python 3 (ipykernel)",
   "language": "python",
   "name": "python3"
  },
  "language_info": {
   "codemirror_mode": {
    "name": "ipython",
    "version": 3
   },
   "file_extension": ".py",
   "mimetype": "text/x-python",
   "name": "python",
   "nbconvert_exporter": "python",
   "pygments_lexer": "ipython3",
   "version": "3.12.3"
  }
 },
 "nbformat": 4,
 "nbformat_minor": 5
}
