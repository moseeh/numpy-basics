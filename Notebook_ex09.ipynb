{
 "cells": [
  {
   "cell_type": "code",
   "execution_count": 2,
   "id": "f6a8a65c-59e0-4258-9281-bf0adedf0df8",
   "metadata": {},
   "outputs": [],
   "source": [
    "import numpy as np \n",
    "from itertools import combinations, permutations\n",
    "\n"
   ]
  },
  {
   "cell_type": "code",
   "execution_count": 3,
   "id": "569fed24-68c5-42bb-b67b-1d8ddef09e0b",
   "metadata": {},
   "outputs": [],
   "source": [
    "model_forecasts = np.loadtxt('model_forecasts.txt', delimiter=',')"
   ]
  },
  {
   "cell_type": "code",
   "execution_count": 6,
   "id": "14b2ea07-4bd0-4de5-bc1e-f1e3ec08ec5e",
   "metadata": {},
   "outputs": [
    {
     "name": "stdout",
     "output_type": "stream",
     "text": [
      "[[ 0.   -2.3  -4.59 -4.83  3.13  4.13  1.07  2.29  0.44  4.35]\n",
      " [ 2.3   0.    3.57 -4.66  2.3  -3.24  3.63  0.41 -2.   -0.77]\n",
      " [ 4.59 -3.57  0.    1.47  1.15 -1.16  4.97  4.81  1.86  1.5 ]\n",
      " [ 4.83  4.66 -1.47  0.    0.25 -1.9  -0.14  3.89  4.34 -1.42]\n",
      " [-3.13 -2.3  -1.15 -0.25  0.    3.9  -2.73  1.23 -4.16  3.33]\n",
      " [-4.13  3.24  1.16  1.9  -3.9   0.   -0.5   2.96 -2.69 -4.48]\n",
      " [-1.07 -3.63 -4.97  0.14  2.73  0.5   0.    4.42 -1.35 -3.95]\n",
      " [-2.29 -0.41 -4.81 -3.89 -1.23 -2.96 -4.42  0.    4.49 -0.4 ]\n",
      " [-0.44  2.   -1.86 -4.34  4.16  2.69  1.35 -4.49  0.    2.29]\n",
      " [-4.35  0.77 -1.5   1.42 -3.33  4.48  3.95  0.4  -2.29  0.  ]]\n"
     ]
    }
   ],
   "source": [
    "print(model_forecasts)"
   ]
  },
  {
   "cell_type": "code",
   "execution_count": 5,
   "id": "8614c14c-63a7-4bcc-83f6-8d155a11e1d3",
   "metadata": {},
   "outputs": [],
   "source": [
    "np.fill_diagonal(model_forecasts, 0)"
   ]
  },
  {
   "cell_type": "code",
   "execution_count": 8,
   "id": "00b30f8f-400c-455d-87f5-a58be6664085",
   "metadata": {},
   "outputs": [
    {
     "ename": "IndentationError",
     "evalue": "unindent does not match any outer indentation level (<string>, line 13)",
     "output_type": "error",
     "traceback": [
      "  \u001b[36mFile \u001b[39m\u001b[32m<string>:13\u001b[39m\n\u001b[31m    \u001b[39m\u001b[31msum_squared_diff = 0\u001b[39m\n                        ^\n\u001b[31mIndentationError\u001b[39m\u001b[31m:\u001b[39m unindent does not match any outer indentation level\n"
     ]
    }
   ],
   "source": [
    "def find_optimal_pairing(forecasts):\n",
    "    \n",
    "    n_teams = forecasts.shape[0]\n",
    "    teams = list(range(n_teams))\n",
    "    \n",
    "    min_sum_squared_diff = float('inf')\n",
    "    best_pairing = None\n",
    "    \n",
    "    print(\"Searching for optimal pairing...\")\n",
    "    for group1 in combinations(teams, 5):\n",
    "        group2 = tuple(t for t in teams if t not in group1)\n",
    "                for perm2 in permutations(group2):\n",
    "            sum_squared_diff = 0\n",
    "            for i in range(5):\n",
    "                diff = forecasts[group1[i], perm2[i]]\n",
    "                sum_squared_diff += diff ** 2\n",
    "            \n",
    "            if sum_squared_diff < min_sum_squared_diff:\n",
    "                min_sum_squared_diff = sum_squared_diff\n",
    "                best_pairing = np.array([list(group1), list(perm2)])\n",
    "    \n",
    "    return best_pairing, min_sum_squared_diff\n",
    "\n",
    "optimal_pairing, min_score = find_optimal_pairing(model_forecasts)\n",
    "\n",
    "print(f\"\\nOptimal pairing found:\")\n",
    "print(optimal_pairing)"
   ]
  },
  {
   "cell_type": "code",
   "execution_count": 9,
   "id": "eb8dd450-f7e8-4e48-a123-54a2de758e90",
   "metadata": {},
   "outputs": [
    {
     "name": "stdout",
     "output_type": "stream",
     "text": [
      "Searching for optimal pairing...\n",
      "\n",
      "Optimal pairing found:\n",
      "[[0 1 2 3 5]\n",
      " [8 7 9 4 6]]\n"
     ]
    }
   ],
   "source": [
    "def find_optimal_pairing(forecasts):\n",
    "    \n",
    "    n_teams = forecasts.shape[0]\n",
    "    teams = list(range(n_teams))\n",
    "    \n",
    "    min_sum_squared_diff = float('inf')\n",
    "    best_pairing = None\n",
    "    \n",
    "    print(\"Searching for optimal pairing...\")\n",
    "    for group1 in combinations(teams, 5):\n",
    "        group2 = tuple(t for t in teams if t not in group1)\n",
    "        for perm2 in permutations(group2):\n",
    "            sum_squared_diff = 0\n",
    "            for i in range(5):\n",
    "                diff = forecasts[group1[i], perm2[i]]\n",
    "                sum_squared_diff += diff ** 2\n",
    "            \n",
    "            if sum_squared_diff < min_sum_squared_diff:\n",
    "                min_sum_squared_diff = sum_squared_diff\n",
    "                best_pairing = np.array([list(group1), list(perm2)])\n",
    "    \n",
    "    return best_pairing, min_sum_squared_diff\n",
    "\n",
    "optimal_pairing, min_score = find_optimal_pairing(model_forecasts)\n",
    "\n",
    "print(f\"\\nOptimal pairing found:\")\n",
    "print(optimal_pairing)"
   ]
  },
  {
   "cell_type": "code",
   "execution_count": null,
   "id": "5a4133bd-758c-4cd8-a6b0-310314063afc",
   "metadata": {},
   "outputs": [],
   "source": []
  }
 ],
 "metadata": {
  "kernelspec": {
   "display_name": "Python 3 (ipykernel)",
   "language": "python",
   "name": "python3"
  },
  "language_info": {
   "codemirror_mode": {
    "name": "ipython",
    "version": 3
   },
   "file_extension": ".py",
   "mimetype": "text/x-python",
   "name": "python",
   "nbconvert_exporter": "python",
   "pygments_lexer": "ipython3",
   "version": "3.12.3"
  }
 },
 "nbformat": 4,
 "nbformat_minor": 5
}
